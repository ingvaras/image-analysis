{
  "nbformat": 4,
  "nbformat_minor": 0,
  "metadata": {
    "colab": {
      "provenance": [],
      "authorship_tag": "ABX9TyNXpGeO8owmEH6H/i+JtULb",
      "include_colab_link": true
    },
    "kernelspec": {
      "name": "python3",
      "display_name": "Python 3"
    },
    "language_info": {
      "name": "python"
    }
  },
  "cells": [
    {
      "cell_type": "markdown",
      "metadata": {
        "id": "view-in-github",
        "colab_type": "text"
      },
      "source": [
        "<a href=\"https://colab.research.google.com/github/ingvaras/image-analysis/blob/main/image_analysis.ipynb\" target=\"_parent\"><img src=\"https://colab.research.google.com/assets/colab-badge.svg\" alt=\"Open In Colab\"/></a>"
      ]
    },
    {
      "cell_type": "code",
      "execution_count": 2,
      "metadata": {
        "colab": {
          "base_uri": "https://localhost:8080/"
        },
        "id": "ZeAHXUSlOj-9",
        "outputId": "0b52a9be-0d31-4301-cc93-ab60be11d801"
      },
      "outputs": [
        {
          "output_type": "stream",
          "name": "stdout",
          "text": [
            "Looking in indexes: https://pypi.org/simple, https://us-python.pkg.dev/colab-wheels/public/simple/\n",
            "Collecting libtiff\n",
            "  Downloading libtiff-0.4.2.tar.gz (129 kB)\n",
            "\u001b[2K     \u001b[90m━━━━━━━━━━━━━━━━━━━━━━━━━━━━━━━━━━━━━━━\u001b[0m \u001b[32m130.0/130.0 kB\u001b[0m \u001b[31m5.9 MB/s\u001b[0m eta \u001b[36m0:00:00\u001b[0m\n",
            "\u001b[?25h  Preparing metadata (setup.py) ... \u001b[?25l\u001b[?25hdone\n",
            "Building wheels for collected packages: libtiff\n",
            "  Building wheel for libtiff (setup.py) ... \u001b[?25l\u001b[?25hdone\n",
            "  Created wheel for libtiff: filename=libtiff-0.4.2-cp310-cp310-linux_x86_64.whl size=304478 sha256=5af0ed123b5083cd92070d3ff40c02194e622b1baba79ff4209c31449bf3d78d\n",
            "  Stored in directory: /root/.cache/pip/wheels/65/5d/5d/90eac321b46b2ea36b0b3a180c60103bb05e01c2f1a93ceb5e\n",
            "Successfully built libtiff\n",
            "Installing collected packages: libtiff\n",
            "Successfully installed libtiff-0.4.2\n",
            "Generating '/usr/local/lib/python3.10/dist-packages/libtiff/tiff_h_4_1_0.py' from '/usr/include/x86_64-linux-gnu/tiff.h'\n"
          ]
        }
      ],
      "source": [
        "!pip install libtiff\n",
        "from libtiff import TIFF"
      ]
    },
    {
      "cell_type": "code",
      "source": [
        "def print_header():\n",
        "  print(\"update\")\n"
      ],
      "metadata": {
        "id": "gKACUq6BQQFT"
      },
      "execution_count": null,
      "outputs": []
    },
    {
      "cell_type": "code",
      "source": [
        "from matplotlib import pyplot as plt\n",
        "\n",
        "filename = \"sample_data/TMA2.tif\"\n",
        "tif_img = TIFF.open(filename)\n",
        "print(tif_img.GetField(\"IMAGEWIDTH\"))\n",
        "tif_img.close()"
      ],
      "metadata": {
        "colab": {
          "base_uri": "https://localhost:8080/"
        },
        "id": "6MAhGKKDOmMm",
        "outputId": "753c7d7f-ab90-46b9-cc43-8e2efb59af1f"
      },
      "execution_count": 4,
      "outputs": [
        {
          "output_type": "stream",
          "name": "stdout",
          "text": [
            "3102\n"
          ]
        }
      ]
    },
    {
      "cell_type": "code",
      "source": [],
      "metadata": {
        "id": "E-6OkOqLPTna"
      },
      "execution_count": null,
      "outputs": []
    }
  ]
}